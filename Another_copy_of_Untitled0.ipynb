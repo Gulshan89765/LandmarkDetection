{
  "cells": [
    {
      "cell_type": "markdown",
      "metadata": {
        "id": "view-in-github",
        "colab_type": "text"
      },
      "source": [
        "<a href=\"https://colab.research.google.com/github/Gulshan89765/LandmarkDetection/blob/main/Another_copy_of_Untitled0.ipynb\" target=\"_parent\"><img src=\"https://colab.research.google.com/assets/colab-badge.svg\" alt=\"Open In Colab\"/></a>"
      ]
    },
    {
      "cell_type": "code",
      "source": [],
      "metadata": {
        "id": "rLrOE5BtS1HW"
      },
      "execution_count": null,
      "outputs": []
    },
    {
      "cell_type": "code",
      "source": [],
      "metadata": {
        "id": "MCzU6Q3bvEAa"
      },
      "execution_count": null,
      "outputs": []
    },
    {
      "cell_type": "code",
      "source": [
        "from sklearn.feature_extraction.text import TfidfVectorizer\n",
        "from sklearn.model_selection import train_test_split\n",
        "from sklearn.svm import SVC\n",
        "from sklearn.ensemble import RandomForestClassifier\n",
        "from sklearn.pipeline import Pipeline\n",
        "from sklearn import metrics\n",
        "\n",
        "# Extended dataset (8 per class)\n",
        "texts = [\n",
        "    # Sports\n",
        "    \"The team won the football match yesterday.\",\n",
        "    \"The player scored a goal in the final game.\",\n",
        "    \"The coach announced the new team lineup.\",\n",
        "    \"The tennis championship was exciting.\",\n",
        "    \"The cricketer hit a century.\",\n",
        "    \"The stadium was full during the match.\",\n",
        "    \"He trained hard for the marathon.\",\n",
        "    \"They won the basketball tournament.\",\n",
        "\n",
        "    # Politics\n",
        "    \"The government passed a new healthcare policy.\",\n",
        "    \"Elections will be held next month.\",\n",
        "    \"The senator addressed the nation in a speech.\",\n",
        "    \"Parliament debates the new education bill.\",\n",
        "    \"The president gave a national address.\",\n",
        "    \"The prime minister held a press conference.\",\n",
        "    \"The political party announced their manifesto.\",\n",
        "    \"The new law was signed by the president.\"\n",
        "]\n",
        "\n",
        "# Labels: 0 = sports, 1 = politics\n",
        "labels = [0] * 8 + [1] * 8\n",
        "\n",
        "# Split data (stratified for balance)\n",
        "X_train, X_test, y_train, y_test = train_test_split(\n",
        "    texts, labels, test_size=0.25, random_state=42, stratify=labels\n",
        ")\n",
        "\n",
        "# SVM pipeline\n",
        "svm_model = Pipeline([\n",
        "    ('tfidf', TfidfVectorizer()),\n",
        "    ('clf', SVC(kernel='linear'))  # Linear kernel works well for text\n",
        "])\n",
        "\n",
        "# Random Forest pipeline\n",
        "rf_model = Pipeline([\n",
        "    ('tfidf', TfidfVectorizer()),\n",
        "    ('clf', RandomForestClassifier(n_estimators=100, random_state=42))\n",
        "])\n",
        "\n",
        "# Train and evaluate SVM\n",
        "svm_model.fit(X_train, y_train)\n",
        "svm_preds = svm_model.predict(X_test)\n",
        "print(\"SVM Accuracy:\", metrics.accuracy_score(y_test, svm_preds))\n",
        "print(\"SVM Classification Report:\\n\", metrics.classification_report(y_test, svm_preds))\n",
        "\n",
        "# Train and evaluate Random Forest\n",
        "rf_model.fit(X_train, y_train)\n",
        "rf_preds = rf_model.predict(X_test)\n",
        "print(\"Random Forest Accuracy:\", metrics.accuracy_score(y_test, rf_preds))\n",
        "print(\"Random Forest Classification Report:\\n\", metrics.classification_report(y_test, rf_preds))\n",
        "\n",
        "# Test with new samples\n",
        "test_samples = [\n",
        "    \"The government introduced a new law.\",\n",
        "    \"The striker scored two goals in the first half.\"\n",
        "]\n",
        "\n",
        "svm_test_preds = svm_model.predict(test_samples)\n",
        "rf_test_preds = rf_model.predict(test_samples)\n",
        "\n",
        "print(\"\\nSVM Predictions:\")\n",
        "for text, label in zip(test_samples, svm_test_preds):\n",
        "    print(f\"Text: '{text}' => Predicted: {'Politics' if label == 1 else 'Sports'}\")\n",
        "\n",
        "print(\"\\nRandom Forest Predictions:\")\n",
        "for text, label in zip(test_samples, rf_test_preds):\n",
        "    print(f\"Text: '{text}' => Predicted: {'Politics' if label == 1 else 'Sports'}\")\n"
      ],
      "metadata": {
        "colab": {
          "base_uri": "https://localhost:8080/"
        },
        "id": "_tDXKsxtHtDP",
        "outputId": "b84e9b99-1703-4b90-d0f5-26faa9129adb"
      },
      "execution_count": null,
      "outputs": [
        {
          "output_type": "stream",
          "name": "stdout",
          "text": [
            "SVM Accuracy: 0.75\n",
            "SVM Classification Report:\n",
            "               precision    recall  f1-score   support\n",
            "\n",
            "           0       0.67      1.00      0.80         2\n",
            "           1       1.00      0.50      0.67         2\n",
            "\n",
            "    accuracy                           0.75         4\n",
            "   macro avg       0.83      0.75      0.73         4\n",
            "weighted avg       0.83      0.75      0.73         4\n",
            "\n",
            "Random Forest Accuracy: 0.75\n",
            "Random Forest Classification Report:\n",
            "               precision    recall  f1-score   support\n",
            "\n",
            "           0       0.67      1.00      0.80         2\n",
            "           1       1.00      0.50      0.67         2\n",
            "\n",
            "    accuracy                           0.75         4\n",
            "   macro avg       0.83      0.75      0.73         4\n",
            "weighted avg       0.83      0.75      0.73         4\n",
            "\n",
            "\n",
            "SVM Predictions:\n",
            "Text: 'The government introduced a new law.' => Predicted: Politics\n",
            "Text: 'The striker scored two goals in the first half.' => Predicted: Sports\n",
            "\n",
            "Random Forest Predictions:\n",
            "Text: 'The government introduced a new law.' => Predicted: Politics\n",
            "Text: 'The striker scored two goals in the first half.' => Predicted: Sports\n"
          ]
        }
      ]
    },
    {
      "cell_type": "code",
      "source": [],
      "metadata": {
        "id": "cc1Ihvj3vFXG"
      },
      "execution_count": 3,
      "outputs": []
    },
    {
      "cell_type": "code",
      "source": [
        "from sklearn.feature_extraction.text import TfidfVectorizer\n",
        "from sklearn.model_selection import train_test_split\n",
        "from sklearn.linear_model import LogisticRegression\n",
        "from sklearn.pipeline import Pipeline\n",
        "from sklearn import metrics\n",
        "\n",
        "# Extended dataset (8 per class)\n",
        "texts = [\n",
        "    # Sports\n",
        "    \"The team won the football match yesterday.\",\n",
        "    \"The player scored a goal in the final game.\",\n",
        "    \"The coach announced the new team lineup.\",\n",
        "    \"The tennis championship was exciting.\",\n",
        "    \"The cricketer hit a century.\",\n",
        "    \"The stadium was full during the match.\",\n",
        "    \"He trained hard for the marathon.\",\n",
        "    \"They won the basketball tournament.\",\n",
        "\n",
        "    # Politics\n",
        "    \"The government passed a new healthcare policy.\",\n",
        "    \"Elections will be held next month.\",\n",
        "    \"The senator addressed the nation in a speech.\",\n",
        "    \"Parliament debates the new education bill.\",\n",
        "    \"The president gave a national address.\",\n",
        "    \"The prime minister held a press conference.\",\n",
        "    \"The political party announced their manifesto.\",\n",
        "    \"The new law was signed by the president.\"\n",
        "]\n",
        "\n",
        "# Labels: 0 = sports, 1 = politics\n",
        "labels = [0] *8 + [1]*8\n",
        "\n",
        "# Split data (stratified for balance)\n",
        "X_train, X_test, y_train, y_test = train_test_split(\n",
        "    texts, labels, test_size=0.25, random_state=42, stratify=labels\n",
        ")\n",
        "\n",
        "# Create the model pipeline\n",
        "model = Pipeline([\n",
        "    ('tfidf', TfidfVectorizer()),\n",
        "    ('clf', LogisticRegression(solver='liblinear'))\n",
        "])\n",
        "\n",
        "# Train the model\n",
        "model.fit(X_train, y_train)\n",
        "\n",
        "# Evaluate on test data\n",
        "y_pred = model.predict(X_test)\n",
        "print(\"Accuracy:\", metrics.accuracy_score(y_test, y_pred))\n",
        "print(\"Classification Report:\\n\", metrics.classification_report(y_test, y_pred))\n",
        "\n",
        "# Test with new samples\n",
        "test_samples = [\n",
        "    \"The striker scored two goals in the first half.\",\n",
        "    \"The government introduced a new law.\"\n",
        "]\n",
        "\n",
        "predictions = model.predict(test_samples)\n",
        "for text, label in zip(test_samples, predictions):\n",
        "    print(f\"Text: '{text}' => Predicted: {'Politics' if label == 1 else 'Sports'}\")\n"
      ],
      "metadata": {
        "colab": {
          "base_uri": "https://localhost:8080/"
        },
        "id": "savvX0lE8-je",
        "outputId": "2fc0f43e-65d9-4eca-d59b-c1b441f1ecd7"
      },
      "execution_count": null,
      "outputs": [
        {
          "output_type": "stream",
          "name": "stdout",
          "text": [
            "Accuracy: 0.75\n",
            "Classification Report:\n",
            "               precision    recall  f1-score   support\n",
            "\n",
            "           0       0.67      1.00      0.80         2\n",
            "           1       1.00      0.50      0.67         2\n",
            "\n",
            "    accuracy                           0.75         4\n",
            "   macro avg       0.83      0.75      0.73         4\n",
            "weighted avg       0.83      0.75      0.73         4\n",
            "\n",
            "Text: 'The striker scored two goals in the first half.' => Predicted: Sports\n",
            "Text: 'The government introduced a new law.' => Predicted: Politics\n"
          ]
        }
      ]
    }
  ],
  "metadata": {
    "colab": {
      "provenance": [],
      "authorship_tag": "ABX9TyM64nmCQ4wc125r9mDuKM61",
      "include_colab_link": true
    },
    "kernelspec": {
      "display_name": "Python 3",
      "name": "python3"
    },
    "language_info": {
      "name": "python"
    }
  },
  "nbformat": 4,
  "nbformat_minor": 0
}